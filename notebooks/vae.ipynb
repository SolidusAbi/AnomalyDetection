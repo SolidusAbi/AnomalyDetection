{
 "cells": [
  {
   "cell_type": "code",
   "execution_count": 1,
   "metadata": {},
   "outputs": [],
   "source": [
    "import os, sys\n",
    "project_dir = os.path.join(os.getcwd(),'..')\n",
    "if project_dir not in sys.path:\n",
    "    sys.path.append(project_dir)\n",
    "\n",
    "\n",
    "sparse_dir = os.path.join(project_dir, 'modules/Sparse')\n",
    "if sparse_dir not in sys.path:\n",
    "    sys.path.append(sparse_dir)\n",
    "\n",
    "from matplotlib import pyplot as plt"
   ]
  },
  {
   "attachments": {},
   "cell_type": "markdown",
   "metadata": {},
   "source": [
    "# Dataset"
   ]
  },
  {
   "cell_type": "code",
   "execution_count": 2,
   "metadata": {},
   "outputs": [],
   "source": [
    "import torch\n",
    "from torchvision.datasets import MNIST\n",
    "from torchvision import transforms\n",
    "from torch.utils.data import Subset, DataLoader\n",
    "\n",
    "dataset_full = MNIST('data/', train = True, download = True, transform = transforms.ToTensor())\n",
    "# idx = torch.where((dataset_full.targets == 0) | (dataset_full.targets == 2))[0]\n",
    "normal_idx = torch.where((dataset_full.targets == 4))[0]\n",
    "anomaly_idx = torch.where((dataset_full.targets == 9))[0]\n",
    "idx = torch.cat([normal_idx, anomaly_idx[:512]])\n",
    "\n",
    "x_train_set = Subset(dataset_full, idx)\n",
    "train_loader =  DataLoader(x_train_set, 128, shuffle=True)"
   ]
  },
  {
   "cell_type": "code",
   "execution_count": 3,
   "metadata": {},
   "outputs": [
    {
     "name": "stdout",
     "output_type": "stream",
     "text": [
      "tensor(4)\n"
     ]
    },
    {
     "data": {
      "image/png": "[encoded data removed]",
      "text/plain": [
       "<Figure size 432x288 with 1 Axes>"
      ]
     },
     "metadata": {
      "needs_background": "light"
     },
     "output_type": "display_data"
    }
   ],
   "source": [
    "# TO REMOVE! Just testing!\n",
    "x, y = next(iter(train_loader))\n",
    "plt.imshow(x[0,0])\n",
    "print(y[0])"
   ]
  },
  {
   "cell_type": "code",
   "execution_count": 17,
   "metadata": {},
   "outputs": [
    {
     "data": {
      "text/plain": [
       "tensor(1.3591)"
      ]
     },
     "execution_count": 17,
     "metadata": {},
     "output_type": "execute_result"
    }
   ],
   "source": [
    "torch.exp(torch.tensor(1)) / 2"
   ]
  },
  {
   "cell_type": "code",
   "execution_count": 23,
   "metadata": {},
   "outputs": [
    {
     "data": {
      "text/plain": [
       "(tensor(-2.3026), tensor(0.1000))"
      ]
     },
     "execution_count": 23,
     "metadata": {},
     "output_type": "execute_result"
    }
   ],
   "source": [
    "torch.log(torch.tensor(0.1)), torch.exp(torch.tensor(-2.3026))\n",
    "\n"
   ]
  },
  {
   "cell_type": "code",
   "execution_count": 5,
   "metadata": {},
   "outputs": [],
   "source": [
    "from Sparse.modules.variational import VariationalLayer\n",
    "from Sparse.modules.variational.utils import SGVBL\n",
    "from torch.nn.parameter import Parameter\n",
    "import torch.nn.functional as F\n",
    "\n",
    "from torch import nn\n",
    "class VariationalEncoder(nn.Linear, nn.Module):\n",
    "    def __init__(self, in_features, out_features, bias=True) -> None:\n",
    "        super(VariationalEncoder, self).__init__(in_features, out_features, bias)\n",
    "        self.log_sigma_weight = Parameter(torch.Tensor(in_features, out_features))\n",
    "\n",
    "        self.mu, self.sigma = None, None\n",
    "\n",
    "    def forward(self, x: torch.Tensor) -> torch.Tensor:\n",
    "        mu = F.linear(x, self.weight, self.bias)\n",
    "        sigma = torch.exp(F.linear(x, self.log_sigma_weight))\n",
    "\n",
    "        if self.training:\n",
    "            self.mu, self.sigma = mu, sigma\n",
    "\n",
    "        # Reparameterization trick\n",
    "        eps = torch.normal(0, torch.ones_like(sigma))\n",
    "        return mu + sigma * eps\n",
    "\n",
    "    def kl_reg(self):\n",
    "        # KL-Divergence regularization\n",
    "        return .5 * (self.mu**2 + self.sigma**2 - torch.log(self.sigma**2) - 1).sum()"
   ]
  },
  {
   "cell_type": "code",
   "execution_count": 8,
   "metadata": {},
   "outputs": [],
   "source": [
    "N = torch.distributions.Normal(0, 1)\n",
    "N.loc = N.loc.cuda() # hack to get sampling on the GPU\n",
    "N.scale = N.scale.cuda()"
   ]
  },
  {
   "cell_type": "code",
   "execution_count": 9,
   "metadata": {},
   "outputs": [
    {
     "data": {
      "text/plain": [
       "Normal(loc: 0.0, scale: 1.0)"
      ]
     },
     "execution_count": 9,
     "metadata": {},
     "output_type": "execute_result"
    }
   ],
   "source": [
    "N"
   ]
  },
  {
   "cell_type": "code",
   "execution_count": null,
   "metadata": {},
   "outputs": [],
   "source": [
    "from torch import nn\n",
    "\n",
    "def Encode(nn.Module):\n",
    "    def __init__(self, input_size, latent_space):\n",
    "        super(Encode, self).__init__()\n",
    "        self.encoder = nn.Sequential(\n",
    "            nn.Conv2d(1,8, 3, stride=1, padding=1),\n",
    "            nn.Dropout2d(0.5),\n",
    "            nn.ReLU(),\n",
    "            nn.MaxPool2d(3, stride=2, padding=1),\n",
    "            nn.Conv2d(8, 16, 3, stride=1, padding=1),\n",
    "            nn.Dropout2d(0.5),\n",
    "            nn.ReLU(),\n",
    "            nn.MaxPool2d(3, stride=2, padding=1),\n",
    "            nn.Conv2d(16, 24, 3, stride=1, padding=1),\n",
    "            nn.Dropout2d(0.5),\n",
    "            nn.ReLU(),\n",
    "            nn.MaxPool2d(3, stride=2, padding=1),\n",
    "        )\n",
    "\n",
    "def Botleneck(nn.Module):\n",
    "    def __init__(self, input_size, latent_space):\n",
    "        super(Botleneck, self).__init__()\n",
    "        self.z = nn.Sequential(\n",
    "            nn.Linear(input_size, latent_space),\n",
    "            nn.ReLU(),\n",
    "            nn.Linear(latent_space, input_size),\n",
    "            nn.ReLU()\n",
    "        )\n",
    "\n",
    "\n",
    "\n",
    "# z_size = input_size // (2*3)\n",
    "# self.z = nn.Sequential(z_size, latent_space)"
   ]
  },
  {
   "cell_type": "code",
   "execution_count": 73,
   "metadata": {},
   "outputs": [
    {
     "data": {
      "text/plain": [
       "torch.Size([1, 24, 4, 4])"
      ]
     },
     "execution_count": 73,
     "metadata": {},
     "output_type": "execute_result"
    }
   ],
   "source": [
    "from torch import nn\n",
    "test = nn.Sequential(\n",
    "        nn.Conv2d(1,8, 3, stride=1, padding=1),\n",
    "        nn.Dropout2d(0.5),\n",
    "        nn.ReLU(),\n",
    "        nn.MaxPool2d(3, stride=2, padding=1),\n",
    "        nn.Conv2d(8, 16, 3, stride=1, padding=1),\n",
    "        nn.Dropout2d(0.5),\n",
    "        nn.ReLU(),\n",
    "        nn.MaxPool2d(3, stride=2, padding=1),\n",
    "        nn.Conv2d(16, 24, 3, stride=1, padding=1),\n",
    "        nn.Dropout2d(0.5),\n",
    "        nn.ReLU(),\n",
    "        nn.MaxPool2d(3, stride=2, padding=1),\n",
    "    )\n",
    "\n",
    "x = torch.randn(1,1,28,28)\n",
    "test(x).shape "
   ]
  },
  {
   "cell_type": "code",
   "execution_count": 78,
   "metadata": {},
   "outputs": [
    {
     "data": {
      "text/plain": [
       "4"
      ]
     },
     "execution_count": 78,
     "metadata": {},
     "output_type": "execute_result"
    }
   ],
   "source": [
    "28//(2*3)"
   ]
  },
  {
   "cell_type": "code",
   "execution_count": 49,
   "metadata": {},
   "outputs": [
    {
     "data": {
      "text/plain": [
       "28.0"
      ]
     },
     "execution_count": 49,
     "metadata": {},
     "output_type": "execute_result"
    }
   ],
   "source": [
    "(28 + 2*1 - 3)/1 + 1 "
   ]
  },
  {
   "cell_type": "code",
   "execution_count": 72,
   "metadata": {},
   "outputs": [
    {
     "data": {
      "text/plain": [
       "(1568, 1024, 384, 256, 128)"
      ]
     },
     "execution_count": 72,
     "metadata": {},
     "output_type": "execute_result"
    }
   ],
   "source": [
    "8*14*14, 16*8*8, 24*4*4, 64*2*2, 128*1*1"
   ]
  },
  {
   "cell_type": "code",
   "execution_count": 57,
   "metadata": {},
   "outputs": [
    {
     "data": {
      "text/plain": [
       "784"
      ]
     },
     "execution_count": 57,
     "metadata": {},
     "output_type": "execute_result"
    }
   ],
   "source": [
    "28*28"
   ]
  }
 ],
 "metadata": {
  "kernelspec": {
   "display_name": "DeepLearning",
   "language": "python",
   "name": "python3"
  },
  "language_info": {
   "codemirror_mode": {
    "name": "ipython",
    "version": 3
   },
   "file_extension": ".py",
   "mimetype": "text/x-python",
   "name": "python",
   "nbconvert_exporter": "python",
   "pygments_lexer": "ipython3",
   "version": "3.8.8"
  },
  "orig_nbformat": 4
 },
 "nbformat": 4,
 "nbformat_minor": 2
}
